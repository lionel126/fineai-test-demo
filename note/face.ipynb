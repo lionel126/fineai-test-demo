{
 "cells": [
  {
   "cell_type": "code",
   "execution_count": null,
   "metadata": {},
   "outputs": [],
   "source": [
    "import face_recognition\n",
    "from IPython.display import display\n",
    "from PIL import Image, ImageDraw\n",
    "import numpy\n",
    "\n",
    "\n",
    "def face():\n",
    "    # img = face_recognition.load_image_file('/Users/chensg/Pictures/americanCaptain/v2-4619748de8fb0e3958fd8b7416b66ab0_1440w.webp')\n",
    "    \n",
    "    im = Image.open('/Users/chensg/Pictures/Alexandra Daddario/maxresdefault.jpg')\n",
    "\n",
    "    # if (scale:=max(im.size)/959) > 1:\n",
    "    #     im = im.resize(tuple(int(i/scale) for i in im.size))\n",
    "\n",
    "    im.convert('RGB')\n",
    "    img = numpy.array(im)\n",
    "    \n",
    "    # face_locations = face_recognition.face_locations(img, model='cnn')\n",
    "    # face_locations = face_recognition.face_locations(img)\n",
    "    face_locations = [(125, 886, 295, 716), (300, 659, 418, 541)]\n",
    "    print(len(face_locations))\n",
    "    pil_image = Image.fromarray(img)\n",
    "    draw = ImageDraw.Draw(pil_image)\n",
    "    for (top, right, bottom, left) in face_locations:\n",
    "        draw.rectangle(((left, top), (right, bottom)), outline=(0, 0, 255))\n",
    "    del draw\n",
    "    display(pil_image)\n",
    "\n",
    "face()"
   ]
  }
 ],
 "metadata": {
  "kernelspec": {
   "display_name": ".venv",
   "language": "python",
   "name": "python3"
  },
  "language_info": {
   "codemirror_mode": {
    "name": "ipython",
    "version": 3
   },
   "file_extension": ".py",
   "mimetype": "text/x-python",
   "name": "python",
   "nbconvert_exporter": "python",
   "pygments_lexer": "ipython3",
   "version": "3.11.3"
  },
  "orig_nbformat": 4
 },
 "nbformat": 4,
 "nbformat_minor": 2
}
